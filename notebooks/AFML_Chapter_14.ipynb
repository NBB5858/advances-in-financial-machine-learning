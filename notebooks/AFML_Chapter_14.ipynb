{
 "cells": [
  {
   "cell_type": "code",
   "execution_count": 5,
   "id": "bfa1255e-cbd3-4876-bfc8-c5a4e56d1640",
   "metadata": {},
   "outputs": [],
   "source": [
    "import numpy as np\n",
    "import pandas as pd\n",
    "import matplotlib.pyplot as plt\n",
    "import matplotlib.dates as mdates\n",
    "\n",
    "from scipy.stats import norm\n",
    "import statsmodels.api as sm\n",
    "from statsmodels.tsa.stattools import acf\n",
    "from statsmodels.tsa.stattools import kpss, adfuller\n",
    "from statsmodels.stats.stattools import jarque_bera\n",
    "from statsmodels.tsa.stattools import coint\n",
    "\n",
    "from numpy.random import normal\n",
    "\n",
    "from numpy.linalg import norm\n",
    "from scipy.stats import norm\n",
    "\n",
    "import yfinance as yf\n",
    "from fredapi import Fred"
   ]
  },
  {
   "cell_type": "code",
   "execution_count": 99,
   "id": "6dc00914-2970-4828-9c3e-aeefc41e31ab",
   "metadata": {},
   "outputs": [],
   "source": [
    "# helper functions for this chapter\n",
    "\n",
    "def HHI(sign_returns):\n",
    "    \n",
    "    w = sign_returns / sign_returns.sum()\n",
    "    w_norm = w.shape[0]\n",
    "    h = (np.pow(w, 2).sum() - 1/w_norm) / (1 - 1/w_norm)\n",
    "\n",
    "    return h\n",
    "\n",
    "def compute_DD_TuW(pnl_frame, percentile):\n",
    "    pnl_frame[\"HWM\"] = pnl_frame[\"Dollar PnL\"].expanding().max()\n",
    "\n",
    "    pnl_frame[\"HWM Regime\"] = (pnl_frame[\"HWM\"] != pnl_frame[\"HWM\"].shift(1)).cumsum()-1\n",
    "    \n",
    "    draw_down_calc = (pnl_frame.groupby('HWM Regime')\n",
    "                               .agg(first=('Close', \"first\"),\n",
    "                                    min=('Close', \"min\"))\n",
    "                     )\n",
    "    draw_down_calc[\"loss\"] = draw_down_calc[\"min\"]/draw_down_calc[\"first\"] - 1    \n",
    "    DD = draw_down_calc[\"loss\"].quantile(1-percentile)\n",
    "    \n",
    "    under_water_calc = (pnl_frame.reset_index(names=\"Date\")\n",
    "                                 .groupby('HWM Regime')\n",
    "                                 .agg(first=('Date', \"first\"),\n",
    "                                      last=('Date', \"last\"))\n",
    "                       )\n",
    "    under_water_calc[\"Duration\"] = (under_water_calc[\"last\"] - under_water_calc[\"first\"]).dt.days\n",
    "    TuW = under_water_calc[\"Duration\"].quantile(percentile)\n",
    "    \n",
    "    return DD, TuW\n",
    "    \n",
    "    \n",
    "def compute_annualized_avg_return(frame):\n",
    "    # Accrue daily returns and annualize\n",
    "\n",
    "    overall_return = (1 + frame[\"Return\"]).prod()\n",
    "    years = frame.shape[0] / 252\n",
    "    annualized_return = np.pow(overall_return, 1/years) - 1\n",
    "\n",
    "    return annualized_return\n",
    "\n",
    "\n",
    "def avg_returns_from_hits(frame):\n",
    "    # assumes daily bet\n",
    "    \n",
    "    hits = frame[frame[\"Return\"] > 0]\n",
    "    mean_hit = hits[\"Return\"].mean()\n",
    "    \n",
    "    return (1 + mean_hit)**(1/252)-1    \n",
    "\n",
    "def avg_returns_from_misses(frame):\n",
    "    # assumes daily bet\n",
    "    \n",
    "    misses = frame[frame[\"Return\"] < 0]\n",
    "    mean_miss = misses[\"Return\"].mean()\n",
    "    \n",
    "    return (1 + mean_miss)**(1/252)-1\n",
    "    \n",
    "def compute_annualized_sharpe(frame):\n",
    "    # assumes daily bet\n",
    "    \n",
    "    mean_return = frame[\"Return\"].mean()\n",
    "    std_return = frame[\"Return\"].std()\n",
    "    sharpe = mean_return / std_return\n",
    "\n",
    "    return np.sqrt(252)*sharpe\n",
    "\n",
    "def compute_annualized_information_ratio(frame):\n",
    "    # uses fed funds as benchmark\n",
    "    frame = frame.copy()\n",
    "        \n",
    "    frame[\"Daily Benchmark\"] = frame[\"Risk Free Rate\"] / 360 # ACT/360 Day Count convention\n",
    "\n",
    "    mean_return_over_benchmark = (frame[\"Return\"] - frame[\"Daily Benchmark\"]).mean()\n",
    "    std_return_over_benchmark = (frame[\"Return\"] - frame[\"Daily Benchmark\"]).std()\n",
    "\n",
    "    information_ratio = mean_return_over_benchmark / std_return_over_benchmark\n",
    "\n",
    "    return np.sqrt(252)*information_ratio\n",
    " \n",
    "\n",
    "def compute_PSR(benchmark, SR_observed, observations, skew, kurtosis):\n",
    "    num = (SR_observed - benchmark) * np.sqrt(observations - 1)\n",
    "    denom = np.sqrt(1 - skew * SR_observed + (kurtosis - 1)*SR_observed**2/4)\n",
    "\n",
    "    return norm.cdf(num/denom)\n",
    "\n",
    "def _benchmark_for_DSR(var_trials, trials):\n",
    "    gamma = 0.57721566\n",
    "    \n",
    "    benchmark = np.sqrt(var_trials)*((1 - gamma)*norm.ppf(1 - 1/trials) + gamma*norm.ppf(1 - np.exp(-1)/trials))\n",
    "    \n",
    "    return benchmark\n",
    "\n",
    "def compute_DSR(SR_observed, observations, trials, var_trials, skew, kurtosis):\n",
    "\n",
    "    # Returns benchmark in whatever unit the SR is provided in\n",
    "    benchmark = _benchmark_for_DSR(var_trials, trials) \n",
    "    \n",
    "    return benchmark, compute_PSR(benchmark, SR_observed, observations, skew, kurtosis)"
   ]
  },
  {
   "cell_type": "markdown",
   "id": "6f652e67-1868-4425-bd99-760edc76a3d4",
   "metadata": {},
   "source": [
    "# Exercises "
   ]
  },
  {
   "cell_type": "markdown",
   "id": "14b45777-8a60-418e-a4de-c7a0227d2f33",
   "metadata": {},
   "source": [
    "### 14.1"
   ]
  },
  {
   "cell_type": "markdown",
   "id": "216666bc-0159-4c8c-9126-3d1c16b025b9",
   "metadata": {},
   "source": [
    "A strategy exhibits a high turnover, high leverage, and high number of bets, with\n",
    "a short holding period, low return on execution costs, and a high Sharpe ratio.\n",
    "Is it likely to have large capacity? What kind of strategy do you think it is?"
   ]
  },
  {
   "cell_type": "markdown",
   "id": "72179f54-e28c-441c-adad-ebd9bd1e7a4b",
   "metadata": {},
   "source": [
    "This is an HFT strategy using leverage to amplify returns. It likely has a low capacity, as additional transaction costs will each away at PnL"
   ]
  },
  {
   "cell_type": "markdown",
   "id": "bf348068-46d7-4d54-8add-85c71d624ea7",
   "metadata": {},
   "source": [
    "### 14.2"
   ]
  },
  {
   "cell_type": "markdown",
   "id": "90977242-b77d-4db7-8e5a-fbecdd608171",
   "metadata": {},
   "source": [
    "On the dollar bars dataset for E-mini S&P 500 futures, compute\n",
    "\n",
    "(a) HHI index on positive returns.\n",
    "\n",
    "(b) HHI index on negative returns.\n",
    "\n",
    "(c) HHI index on time between bars.\n",
    "\n",
    "(d) The 95-percentile DD.\n",
    "\n",
    "(e) The 95-percentile TuW.\n",
    "\n",
    "(f) Annualized average return.\n",
    "\n",
    "(g) Average returns from hits (positive returns).\n",
    "\n",
    "(h) Average return from misses (negative returns).\n",
    "\n",
    "(i) Annualized SR.\n",
    "\n",
    "(j) Information ratio, where the benchmark is the risk-free rate.\n",
    "\n",
    "(k) PSR.\n",
    "\n",
    "(l) DSR, where we assume there were 100 trials, and the variance of the trials’\n",
    "SR was 0.5."
   ]
  },
  {
   "cell_type": "code",
   "execution_count": 100,
   "id": "350ea14a-c217-47c3-8e53-14b7a7749f0c",
   "metadata": {},
   "outputs": [
    {
     "data": {
      "text/plain": [
       "Text(0, 0.5, 'Index Level')"
      ]
     },
     "execution_count": 100,
     "metadata": {},
     "output_type": "execute_result"
    },
    {
     "data": {
      "image/png": "[encoded data removed]",
      "text/plain": [
       "<Figure size 1200x400 with 1 Axes>"
      ]
     },
     "metadata": {},
     "output_type": "display_data"
    }
   ],
   "source": [
    "# we'll take data from Yahoo Finance and FRED for simplicity\n",
    "ticker = yf.Ticker(\"SPY\")\n",
    "\n",
    "spy = ticker.history(period=\"10y\", interval=\"1d\")  \n",
    "spy.index = spy.index.date\n",
    "spy.index = pd.to_datetime(spy.index)\n",
    "spy = spy.drop([\"Dividends\", \"Stock Splits\", \"Capital Gains\"], axis=1)\n",
    "\n",
    "\n",
    "\n",
    "from fredapi import Fred\n",
    "fred = Fred(api_key='635cbac60d1b852b7c3492573b2b4f64')\n",
    "fed_funds = fred.get_series('FEDFUNDS') / 100\n",
    "\n",
    "spy[\"Risk Free Rate\"] = fed_funds.to_frame()[0]\n",
    "spy[\"Risk Free Rate\"] = spy[\"Risk Free Rate\"].ffill()\n",
    "\n",
    "spy[\"Return\"] = spy[\"Close\"]/spy[\"Close\"].shift(1) - 1\n",
    "spy = spy.dropna()\n",
    "\n",
    "spy[\"Dollar PnL\"] = spy[\"Close\"] / spy[\"Close\"].values[0] - 1\n",
    "\n",
    "\n",
    "plt.figure(figsize=(12, 4))\n",
    "plt.plot(spy[\"Close\"])\n",
    "\n",
    "plt.title(\"SPY\")\n",
    "plt.xlabel(\"Date\")\n",
    "plt.ylabel(\"Index Level\")"
   ]
  },
  {
   "cell_type": "code",
   "execution_count": 104,
   "id": "9b9ca920-f065-4f91-82ae-23afd2ec10a3",
   "metadata": {},
   "outputs": [
    {
     "data": {
      "text/html": [
       "<div>\n",
       "<style scoped>\n",
       "    .dataframe tbody tr th:only-of-type {\n",
       "        vertical-align: middle;\n",
       "    }\n",
       "\n",
       "    .dataframe tbody tr th {\n",
       "        vertical-align: top;\n",
       "    }\n",
       "\n",
       "    .dataframe thead th {\n",
       "        text-align: right;\n",
       "    }\n",
       "</style>\n",
       "<table border=\"1\" class=\"dataframe\">\n",
       "  <thead>\n",
       "    <tr style=\"text-align: right;\">\n",
       "      <th></th>\n",
       "      <th>Attribute Value</th>\n",
       "    </tr>\n",
       "  </thead>\n",
       "  <tbody>\n",
       "    <tr>\n",
       "      <th>HHI positive returns</th>\n",
       "      <td>0.0009</td>\n",
       "    </tr>\n",
       "    <tr>\n",
       "      <th>HHI negative returns</th>\n",
       "      <td>0.0014</td>\n",
       "    </tr>\n",
       "    <tr>\n",
       "      <th>95%-ile DD</th>\n",
       "      <td>-0.0374</td>\n",
       "    </tr>\n",
       "    <tr>\n",
       "      <th>95%-ile TuW</th>\n",
       "      <td>26.0500</td>\n",
       "    </tr>\n",
       "    <tr>\n",
       "      <th>Ann. avg return</th>\n",
       "      <td>0.1453</td>\n",
       "    </tr>\n",
       "    <tr>\n",
       "      <th>Ann. Avg. return from hits</th>\n",
       "      <td>0.0000</td>\n",
       "    </tr>\n",
       "    <tr>\n",
       "      <th>Ann. Avg. return from misses</th>\n",
       "      <td>-0.0000</td>\n",
       "    </tr>\n",
       "    <tr>\n",
       "      <th>Annualized SR (no benchmark)</th>\n",
       "      <td>0.8386</td>\n",
       "    </tr>\n",
       "    <tr>\n",
       "      <th>Information Ratio (Fed Funds benchmark)</th>\n",
       "      <td>0.7593</td>\n",
       "    </tr>\n",
       "    <tr>\n",
       "      <th>PSR</th>\n",
       "      <td>0.9911</td>\n",
       "    </tr>\n",
       "    <tr>\n",
       "      <th>DSR</th>\n",
       "      <td>0.0000</td>\n",
       "    </tr>\n",
       "    <tr>\n",
       "      <th>DSR Benchmark</th>\n",
       "      <td>5.8342</td>\n",
       "    </tr>\n",
       "  </tbody>\n",
       "</table>\n",
       "</div>"
      ],
      "text/plain": [
       "                                         Attribute Value\n",
       "HHI positive returns                              0.0009\n",
       "HHI negative returns                              0.0014\n",
       "95%-ile DD                                       -0.0374\n",
       "95%-ile TuW                                      26.0500\n",
       "Ann. avg return                                   0.1453\n",
       "Ann. Avg. return from hits                        0.0000\n",
       "Ann. Avg. return from misses                     -0.0000\n",
       "Annualized SR (no benchmark)                      0.8386\n",
       "Information Ratio (Fed Funds benchmark)           0.7593\n",
       "PSR                                               0.9911\n",
       "DSR                                               0.0000\n",
       "DSR Benchmark                                     5.8342"
      ]
     },
     "execution_count": 104,
     "metadata": {},
     "output_type": "execute_result"
    }
   ],
   "source": [
    "# Calculate and summary attributes\n",
    "\n",
    "ret = spy[\"Return\"].values\n",
    "\n",
    "positive_HHI = HHI(ret[ret>=0])\n",
    "negative_HHI = HHI(ret[ret<0])\n",
    "\n",
    "max_drawdown, max_TuW = compute_DD_TuW(spy, percentile=0.95)\n",
    "\n",
    "annualized_return = compute_annualized_avg_return(spy)\n",
    "\n",
    "returns_from_hits = avg_returns_from_hits(spy)\n",
    "returns_from_misses = avg_returns_from_misses(spy)\n",
    "\n",
    "annualized_sharpe = compute_annualized_sharpe(spy)\n",
    "\n",
    "information_ratio = compute_information_ratio(spy)\n",
    "\n",
    "# SR_observation, skew, and kurtosis should all be on a daily basis\n",
    "PSR=compute_PSR(benchmark=0, \n",
    "                SR_observed=information_ratio/np.sqrt(252), \n",
    "                observations=spy.shape[0], \n",
    "                skew=spy[\"Return\"].skew(), \n",
    "                kurtosis=spy[\"Return\"].kurtosis()+3)\n",
    "\n",
    "# returns DSR_benchmark as daily sharpe ratio\n",
    "DSR_Benchmark, DSR = compute_DSR(SR_observed=information_ratio/np.sqrt(252), \n",
    "                                 observations=spy.shape[0],\n",
    "                                 trials=2, \n",
    "                                 var_trials=0.5,\n",
    "                                 skew=spy[\"Return\"].skew(), \n",
    "                                 kurtosis=spy[\"Return\"].kurtosis()+3)\n",
    "\n",
    "\n",
    "labels = [\"HHI positive returns\", \n",
    "          \"HHI negative returns\",\n",
    "          \"95%-ile DD\",\n",
    "          \"95%-ile TuW\",\n",
    "          \"Ann. avg return\",\n",
    "          \"Ann. Avg. return from hits\",\n",
    "          \"Ann. Avg. return from misses\",\n",
    "          \"Annualized SR (no benchmark)\",\n",
    "          \"Information Ratio (Fed Funds benchmark)\",\n",
    "          \"PSR\",\n",
    "          \"DSR\",\n",
    "          \"DSR Benchmark\"]\n",
    "\n",
    "data = [positive_HHI, \n",
    "        negative_HHI, \n",
    "        max_drawdown, \n",
    "        max_TuW, \n",
    "        annualized_return, \n",
    "        returns_from_hits,\n",
    "        returns_from_misses,\n",
    "        annualized_sharpe,\n",
    "        information_ratio,\n",
    "        PSR,\n",
    "        DSR,\n",
    "        DSR_Benchmark*np.sqrt(252)]\n",
    "\n",
    "data = [round(x, 4) for x in data]\n",
    "\n",
    "pd.DataFrame(index=labels, data=data, columns=[\"Attribute Value\"])"
   ]
  },
  {
   "cell_type": "markdown",
   "id": "b43a968c-f1ec-472c-9dab-4df41b845024",
   "metadata": {},
   "source": [
    "### 14.4 "
   ]
  },
  {
   "cell_type": "markdown",
   "id": "57fb8a4a-677b-499d-a4ea-e39c9eb598e7",
   "metadata": {},
   "source": [
    "The results from a 2-year backtest are that monthly returns have a mean of 3.6%,\n",
    "and a standard deviation of 7.9%.\n",
    "\n",
    "(a) What is the SR?\n",
    "\n",
    "(b) What is the annualized SR?"
   ]
  },
  {
   "cell_type": "markdown",
   "id": "9ee61d69-f327-41b3-89ad-11190a0345da",
   "metadata": {},
   "source": [
    "The monthly Sharpe Ratio is $SR = \\frac{3.6}{7.9} = 0.46$. The annualized Sharpe Ratio is $SR = \\sqrt{12}*\\frac{3.6}{7.9} = 1.58$"
   ]
  },
  {
   "cell_type": "markdown",
   "id": "9b75ad86-1d96-41df-bd5e-3d8e7cabbc43",
   "metadata": {},
   "source": [
    "### 14.5"
   ]
  },
  {
   "cell_type": "markdown",
   "id": "e0b1aed1-2d13-405a-8fc6-bbf4bce97bba",
   "metadata": {},
   "source": [
    "Following on exercise 1:\n",
    "\n",
    "(a) The returns have a skewness of 0 and a kurtosis of 3. What is the PSR?\n",
    "\n",
    "(b) The returns have a skewness of -2.448 and a kurtosis of 10.164. What is the\n",
    "PSR?"
   ]
  },
  {
   "cell_type": "code",
   "execution_count": 105,
   "id": "13544b1a-61b6-41bb-8ca1-80e7af9407f1",
   "metadata": {},
   "outputs": [
    {
     "name": "stdout",
     "output_type": "stream",
     "text": [
      "PSR: 0.753641661386456\n"
     ]
    }
   ],
   "source": [
    "# No sampling frequency given, so just use yearly numbers\n",
    "Gaussian_PSR = compute_PSR(benchmark = 1, \n",
    "                           SR_observed = 1.5, \n",
    "                           observations = 5, \n",
    "                           skew = 0, \n",
    "                           kurtosis = 3)\n",
    "\n",
    "print(F\"PSR: {Gaussian_PSR}\")"
   ]
  },
  {
   "cell_type": "code",
   "execution_count": 106,
   "id": "eb584010-2cbb-4c91-a09f-34a3cf093759",
   "metadata": {},
   "outputs": [
    {
     "name": "stdout",
     "output_type": "stream",
     "text": [
      "PSR: 0.6251379587597063\n"
     ]
    }
   ],
   "source": [
    "# No sampling frequency given, so just use yearly numbers\n",
    "tailed_PSR = compute_PSR(benchmark = 1, \n",
    "                         SR_observed = 1.5, \n",
    "                         observations = 5, \n",
    "                         skew = -2.448, \n",
    "                         kurtosis = 10.164)\n",
    "\n",
    "print(F\"PSR: {tailed_PSR}\")"
   ]
  },
  {
   "cell_type": "markdown",
   "id": "972455d7-9f0d-464c-98cc-c79dbefe8ca7",
   "metadata": {},
   "source": [
    "All else equal, the skew and the fat tails decrease the probability that the observed Sharpe Ratio is greater than the benchmark. This makes sense, as skew and fat tailed distributions tend to inflate the Sharp Ratio."
   ]
  },
  {
   "cell_type": "markdown",
   "id": "6b513226-1d9e-4653-8624-9bc38b566b50",
   "metadata": {},
   "source": [
    "### 14.7"
   ]
  },
  {
   "cell_type": "markdown",
   "id": "3881e9d9-026a-4657-b31e-7276eefcb527",
   "metadata": {},
   "source": [
    "14.7 A 5-year backtest has an annualized SR of 2.5, computed on daily returns. The\n",
    "skewness is -3 and the kurtosis is 10.\n",
    "\n",
    "(a) What is the PSR?\n",
    "\n",
    "(b) In order to find that best result, 100 trials were conducted. The variance of\n",
    "the Sharpe ratios on those trials is 0.5. What is the DSR?"
   ]
  },
  {
   "cell_type": "code",
   "execution_count": 107,
   "id": "0dc70fbe-7e9b-49a3-9f5d-3be81cb6b6de",
   "metadata": {},
   "outputs": [
    {
     "name": "stdout",
     "output_type": "stream",
     "text": [
      "PSR: 0.9999969103986683\n"
     ]
    }
   ],
   "source": [
    "# The Probabilistic Sharpe Ratio is virtually equal to 1\n",
    "\n",
    "# All numbers so be in the original sampling frequency, i.e. not annualized\n",
    "PSR = compute_PSR(benchmark = 0, \n",
    "                  SR_observed = 2.5 / np.sqrt(252),\n",
    "                  observations = 5*252, \n",
    "                  skew = -3, \n",
    "                  kurtosis = 10)\n",
    "\n",
    "print(F\"PSR: {PSR}\")"
   ]
  },
  {
   "cell_type": "code",
   "execution_count": 108,
   "id": "58cdff9c-1a77-4e68-a920-27012d85428d",
   "metadata": {},
   "outputs": [
    {
     "name": "stdout",
     "output_type": "stream",
     "text": [
      "DSR: 0.9005688129049774\n"
     ]
    }
   ],
   "source": [
    "DSR_Benchmark, DSR = compute_DSR(SR_observed=2.5/np.sqrt(252), \n",
    "                                 observations=5*252,\n",
    "                                 trials=100, \n",
    "                                 var_trials=0.5/252,\n",
    "                                 skew=-3, \n",
    "                                 kurtosis=10)\n",
    "print(F\"DSR: {DSR}\")"
   ]
  },
  {
   "cell_type": "markdown",
   "id": "0602085a-626a-49d2-a20f-6b61a6a89411",
   "metadata": {},
   "source": [
    "The Probability of the Sharpe Ratio being non zero is high. However, the probability of the observed Sharpe Ratio being higher than the DSR benchmark is substantially lower."
   ]
  }
 ],
 "metadata": {
  "kernelspec": {
   "display_name": "Python 3 (ipykernel)",
   "language": "python",
   "name": "python3"
  },
  "language_info": {
   "codemirror_mode": {
    "name": "ipython",
    "version": 3
   },
   "file_extension": ".py",
   "mimetype": "text/x-python",
   "name": "python",
   "nbconvert_exporter": "python",
   "pygments_lexer": "ipython3",
   "version": "3.11.5"
  }
 },
 "nbformat": 4,
 "nbformat_minor": 5
}
