{
 "cells": [
  {
   "cell_type": "markdown",
   "id": "c1e3664e-cd2d-4be3-8489-887baacf5ccb",
   "metadata": {},
   "source": [
    "# Exercises"
   ]
  },
  {
   "cell_type": "markdown",
   "id": "a00db357-78dc-45a4-b83b-8867990b3c02",
   "metadata": {},
   "source": [
    "### 12.1\n",
    "Suppose that you develop a momentum strategy on a futures contract, where\n",
    "the forecast is based on an AR(1) process. You backtest this strategy using the\n",
    "WF method, and the Sharpe ratio is 1.5. You then repeat the backtest on the\n",
    "reversed series and achieve a Sharpe ratio of –1.5. What would be the mathematical grounds for disregarding the second result, if any?"
   ]
  },
  {
   "cell_type": "markdown",
   "id": "e688a1b2-745b-48c1-9e6c-a28d127a7c05",
   "metadata": {},
   "source": [
    "For an events driven model, I am assuming that the backtest on the reversed series means that we still use the same set of observation-label pairs as in the forward case, but fed into the model in reverse order. We are NOT derivaing a new set of observation-labels, where we e.g. apply the triple barrier method in reversed. If the the backtest provides a poor result in that case, then it is clear the specific order in which forward training data appeared is what actually led to the strategies success.  In this case, you are still fundamentally training the model on past-future observations, you're just reversed the order that you feed them in via training  \n",
    "\n",
    "On the other hand, for the AR(1) based strategy, which is a sequential model, one really is training it on the reversed sequence of observations, which is fundamentally a different data set.  "
   ]
  },
  {
   "cell_type": "markdown",
   "id": "e1d1714a-5eb9-47c5-89c3-c77df59190f8",
   "metadata": {},
   "source": [
    "### 12.2 \n",
    "You develop a mean-reverting strategy on a futures contract. Your WF backtest\n",
    "achieves a Sharpe ratio of 1.5. You increase the length of the warm-up period,\n",
    "and the Sharpe ratio drops to 0.7. You go ahead and present only the result with\n",
    "the higher Sharpe ratio, arguing that a strategy with a shorter warm-up is more\n",
    "realistic. Is this selection bias?\n"
   ]
  },
  {
   "cell_type": "markdown",
   "id": "db3eb645-8a3f-4525-b7f5-0ead1f3acc0a",
   "metadata": {},
   "source": [
    "Yes this is selection bias, and post hoc justification for a choosing a particular result. One did both experiments, and only came up with a reason for picking one after seeing the results. A more proper setup would be the following: you have a strategy, and you want to test whether it is robust to changes in the warmup length. You determine that it is not, and therefore throw away the strategy."
   ]
  },
  {
   "cell_type": "markdown",
   "id": "6ddbf16b-bd49-48aa-b721-70470e083296",
   "metadata": {},
   "source": [
    "### 12.3\n",
    "Your strategy achieves a Sharpe ratio of 1.5 on a WF backtest, but a Sharpe\n",
    "ratio of 0.7 on a CV backtest. You go ahead and present only the result with\n",
    "the higher Sharpe ratio, arguing that the WF backtest is historically accurate,\n",
    "while the CV backtest is a scenario simulation, or an inferential exercise. Is this\n",
    "selection bias?"
   ]
  },
  {
   "cell_type": "markdown",
   "id": "44002971-b028-4952-8a6f-08947dd8227c",
   "metadata": {},
   "source": [
    "This is selection bias. If you merely want to write an (uninteresting) paper about what happened in the past, then sure publish just WF. But if you are trying to make a claim about could happen in the future, the cross validation experiment will actually provide more information"
   ]
  },
  {
   "cell_type": "markdown",
   "id": "e3d016ab-b816-4e72-b934-8879285c61f6",
   "metadata": {},
   "source": [
    "### 12.4\n",
    "Your strategy produces 100,000 forecasts over time. You would like to derive\n",
    "the CPCV distribution of Sharpe ratios by generating 1,000 paths. What are the\n",
    "possible combinations of parameters (N, k) that will allow you to achieve that?"
   ]
  },
  {
   "cell_type": "markdown",
   "id": "2cdd1fdc-4b1d-4f33-bcb9-1475f80c1981",
   "metadata": {},
   "source": [
    "Number of paths is given by $\\phi = \\frac{k}{n}(N \\text{ Choose } k)$. If we want 1000 paths, the some sensible numbers are $N = 12$ and $k = 4$. This means that we are using 67% of the data for training  "
   ]
  },
  {
   "cell_type": "markdown",
   "id": "a5e69e9f-eb29-45d0-bad6-18c009071202",
   "metadata": {},
   "source": [
    "### 12.5"
   ]
  },
  {
   "cell_type": "markdown",
   "id": "4ffa00c7-705d-42cf-ad3d-5993e1fba44c",
   "metadata": {},
   "source": [
    "You discover a strategy that achieves a Sharpe ratio of 1.5 in a WF backtest. You\n",
    "write a paper explaining the theory that would justify such result, and submit it to an academic journal. The editor replies that one referee has requested you repeat your backtest using a CPCV method with N = 100 and k = 2, including your code and full datasets. You follow these instructions, and the mean Sharpe\n",
    "ratio is –1 with a standard deviation of 0.5. Furious, you do not reply, but instead\n",
    "withdraw your submission, and resubmit in a different journal of higher impact\n",
    "factor. After 6 months, your paper is accepted. You appease your conscience\n",
    "thinking that, if the discovery is false, it is the journal’s fault for not having\n",
    "requested a CPCV test. You think, “It cannot be unethical, since it is permitted,\n",
    "and everybody does it.” What are the arguments, scientific or ethical, to justify\n",
    "your actions?"
   ]
  },
  {
   "cell_type": "markdown",
   "id": "166ca901-b4b8-4127-abc4-34856dbe770c",
   "metadata": {},
   "source": [
    "This is forum shopping, and it is not ethical ever. Before doign the test required by the first journal, you could reasonably claim ignorance (though a practioner should really known better) and not malice. However, after doing the experiment, it's just malice."
   ]
  }
 ],
 "metadata": {
  "kernelspec": {
   "display_name": "Python 3 (ipykernel)",
   "language": "python",
   "name": "python3"
  },
  "language_info": {
   "codemirror_mode": {
    "name": "ipython",
    "version": 3
   },
   "file_extension": ".py",
   "mimetype": "text/x-python",
   "name": "python",
   "nbconvert_exporter": "python",
   "pygments_lexer": "ipython3",
   "version": "3.11.5"
  }
 },
 "nbformat": 4,
 "nbformat_minor": 5
}
