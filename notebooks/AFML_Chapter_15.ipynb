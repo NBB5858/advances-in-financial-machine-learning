{
 "cells": [
  {
   "cell_type": "code",
   "execution_count": 18,
   "id": "3b52a19b-3ba8-477a-acf2-9cd6233aa424",
   "metadata": {},
   "outputs": [],
   "source": [
    "import numpy as np\n",
    "import pandas as pd\n",
    "import matplotlib.pyplot as plt\n",
    "import matplotlib.dates as mdates\n",
    "\n",
    "from scipy.stats import norm\n",
    "import statsmodels.api as sm\n",
    "from statsmodels.tsa.stattools import acf\n",
    "from statsmodels.tsa.stattools import kpss, adfuller\n",
    "from statsmodels.stats.stattools import jarque_bera\n",
    "from statsmodels.tsa.stattools import coint\n",
    "\n",
    "from sklearn.model_selection import train_test_split\n",
    "from sklearn.tree import DecisionTreeClassifier\n",
    "from sklearn.ensemble import BaggingClassifier\n",
    "from sklearn.ensemble import RandomForestClassifier\n",
    "from sklearn.metrics import confusion_matrix\n",
    "from sklearn.metrics import classification_report, accuracy_score\n",
    "from sklearn.model_selection import GridSearchCV, RandomizedSearchCV \n",
    "from sklearn.svm import SVC\n",
    "from sklearn.model_selection import KFold\n",
    "\n",
    "from numpy.random import normal, uniform\n",
    "\n",
    "from sympy import symbols, diff, log, exp, sqrt"
   ]
  },
  {
   "cell_type": "code",
   "execution_count": 23,
   "id": "b8528f75-1abe-4f57-9c19-eb79a5d697c5",
   "metadata": {},
   "outputs": [],
   "source": [
    "# helper functions for chapter\n",
    "\n",
    "def sharpe(sl, pt, p, n_bets):\n",
    "    # n_bets is the number of bets per year\n",
    "    \n",
    "    num = (pt - sl)*p + sl\n",
    "    denom = (pt - sl)*np.sqrt(p*(1-p))\n",
    "    return num/denom * np.sqrt(n_bets)\n",
    "\n",
    "def implied_precision(SR, sl, pt, n_bets):\n",
    "    # n_bets is the number of bets per year, SR is annualized\n",
    "    \n",
    "    a = (n_bets + SR**2)*(pt - sl)**2\n",
    "    b = (2*n_bets*sl - SR**2*(pt - sl))*(pt - sl)\n",
    "    c = n_bets*sl**2\n",
    "    return (-b + np.sqrt(b**2 - 4*a*c)) / (2*a)\n",
    "\n",
    "def implied_n_bets(SR, sl, pt, p):\n",
    "    # n_bets is the number of bets per year, SR is annualized\n",
    "    \n",
    "    num = (1-p)*p*(pt - sl)**2*SR**2\n",
    "    denom = (p*(pt - sl) + sl)**2\n",
    "    return num/denom\n",
    "    \n",
    "def implied_pt(SR, sl, p, n):\n",
    "    # n is the number of bets per year, SR is annualized\n",
    "    \n",
    "    num = sl*(np.sqrt(n)*(p-1) - np.sqrt(p*(1 - p))*SR)\n",
    "    denom = np.sqrt(n)*p - np.sqrt(p*(1-p))*SR\n",
    "    return num/denom\n",
    "\n",
    "def implied_sl(SR, pt, p, n):\n",
    "    # n is the number of bets per year, SR is annualized\n",
    "    \n",
    "    num = np.sqrt(n)*p*pt - np.sqrt((1 - p)*p)*pt*SR\n",
    "    denom = np.sqrt(n)*(p-1) - np.sqrt((1 - p)*p)*SR\n",
    "    return num/denom\n",
    "\n",
    "def compute_PSR(benchmark, SR_observed, observations, skew, kurtosis):\n",
    "    num = (SR_observed - benchmark) * np.sqrt(observations - 1)\n",
    "    denom = np.sqrt(1 - skew * SR_observed + (kurtosis - 1)*SR_observed**2/4)\n",
    "    \n",
    "    return norm.cdf(num/denom)\n",
    "\n",
    "def prob_strategy_failure(m_1, m_2, s_1, s_2, p_1, n_samples, benchmark):\n",
    "\n",
    "    g1 = normal(loc=m_1, scale=s_1, size=int(p_1*n_samples))\n",
    "    g2 = normal(loc=m_2, scale=s_2, size=n_samples - int(p_1*n_samples))\n",
    "    \n",
    "    samples = np.concat([g1, g2])\n",
    "    \n",
    "    rPos, rNeg = samples[samples>0].mean(),samples[samples<=0].mean()\n",
    "    \n",
    "    p = samples[samples>0].shape[0]/float(samples.shape[0])\n",
    "\n",
    "    thresP = implied_precision(SR=benchmark, sl=rNeg, pt=rPos, n_bets=12)\n",
    "    \n",
    "    risk = norm.cdf(thresP, p, p*(1-p))\n",
    "\n",
    "    return risk"
   ]
  },
  {
   "cell_type": "markdown",
   "id": "d8e54f1f-612b-4dd6-b243-dd3e9306d8cd",
   "metadata": {},
   "source": [
    "# Exercises"
   ]
  },
  {
   "cell_type": "markdown",
   "id": "41069687-b2b0-4b17-8a98-a07710da1028",
   "metadata": {},
   "source": [
    "### 15.1"
   ]
  },
  {
   "cell_type": "markdown",
   "id": "40d667f3-66c0-466f-85f3-138da9e73f77",
   "metadata": {},
   "source": [
    "A portfolio manager intends to launch a strategy that targets an annualized SR of\n",
    "2. Bets have a precision rate of 60%, with weekly frequency. The exit conditions\n",
    "are 2% for profit-taking, and –2% for stop-loss.\n",
    "\n",
    "(a) Is this strategy viable?\n",
    "\n",
    "(b) Ceteris paribus, what is the required precision rate that would make the\n",
    "strategy profitable?\n",
    "\n",
    "(c) For what betting frequency is the target achievable?\n",
    "\n",
    "(d) For what profit-taking threshold is the target achievable?\n",
    "\n",
    "(e) What would be an alternative stop-loss?"
   ]
  },
  {
   "cell_type": "code",
   "execution_count": 10,
   "id": "6394df79-c774-478c-8bcd-8abab08f3f8d",
   "metadata": {},
   "outputs": [
    {
     "name": "stdout",
     "output_type": "stream",
     "text": [
      "Sharpe Ratio:  1.4719601443879746\n",
      "Implied Precision:  0.6336306209562126\n",
      "Implied Bets per Year:  96.0\n",
      "Implied Profit Taking:  0.023091676456151216\n",
      "Implied Stop Loss:  -0.01732225898624381\n"
     ]
    }
   ],
   "source": [
    "# The strategy is not viable, it only yields an annualized sharpe ratio of 1.47\n",
    "print(\"Sharpe Ratio: \", sharpe(-0.02, 0.02, 0.6, 52) )\n",
    "\n",
    "# The required precision is ~0.634\n",
    "print(\"Implied Precision: \", implied_precision(2, -0.02, 0.02, 52))\n",
    "\n",
    "# The required betting frequency is 96 bets per year\n",
    "print(\"Implied Bets per Year: \", implied_n_bets(2, -0.02, 0.02, 0.6))\n",
    "\n",
    "# the required profit taking threshold is ~0.023\n",
    "print(\"Implied Profit Taking: \", implied_pt(2, -0.02, 0.6, 52))\n",
    "\n",
    "# the required stop loss threshold is ~-0.017\n",
    "print(\"Implied Stop Loss: \", implied_sl(2, 0.02, 0.6, 52))"
   ]
  },
  {
   "cell_type": "markdown",
   "id": "10fc33b6-aa52-4783-ba24-8a0da45b5ce7",
   "metadata": {},
   "source": [
    "### 15.2 "
   ]
  },
  {
   "cell_type": "markdown",
   "id": "efaedbf1-47ad-42b6-a298-d8804100de91",
   "metadata": {},
   "source": [
    "Following up on the strategy from exercise 1.\n",
    "\n",
    "(a) What is the sensitivity of SR to a 1% change in each parameter?\n",
    "\n",
    "(b) Given these sensitivities, and assuming that all parameters are equally hard\n",
    "to improve, which one offers the lowest hanging fruit?\n",
    "\n",
    "(c) Does changing any of the parameters in exercise 1 impact the others? For\n",
    "example, does changing the betting frequency modify the precision rate,\n",
    "etc.?"
   ]
  },
  {
   "cell_type": "code",
   "execution_count": 11,
   "id": "019de57a-e74b-44e0-b775-511db9f93725",
   "metadata": {},
   "outputs": [
    {
     "data": {
      "text/plain": [
       "(0.0, 3.0)"
      ]
     },
     "execution_count": 11,
     "metadata": {},
     "output_type": "execute_result"
    },
    {
     "data": {
      "image/png": "[encoded data removed]",
      "text/plain": [
       "<Figure size 800x600 with 4 Axes>"
      ]
     },
     "metadata": {},
     "output_type": "display_data"
    }
   ],
   "source": [
    "fig, ax = plt.subplots(2, 2, figsize=(8, 6))\n",
    "\n",
    "plt.subplots_adjust(wspace=0.4, hspace=0.4)\n",
    "\n",
    "pt_grid = np.linspace(0, 0.1, 10)\n",
    "SR_pt_grid = sharpe(-0.02, pt_grid, 0.6, 52)\n",
    "ax[0, 0].plot(pt_grid, SR_pt_grid)\n",
    "ax[0, 0].set_ylabel(\"Sharpe Ratio\")\n",
    "ax[0, 0].set_xlabel(\"Profit Taking Thresh (%)\")\n",
    "ax[0, 0].set_ylim(0, 3)\n",
    "\n",
    "\n",
    "sl_grid = np.linspace(0, -0.1, 10)\n",
    "SR_sl_grid = sharpe(sl_grid, 0.02, 0.6, 52)\n",
    "ax[0, 1].plot(sl_grid, SR_sl_grid)\n",
    "ax[0, 1].set_ylabel(\"Sharpe Ratio\")\n",
    "ax[0, 1].set_xlabel(\"Stop Loss Thresh (%)\")\n",
    "ax[0, 1].set_ylim(0, 3)\n",
    "\n",
    "p_grid = np.linspace(0.01, 0.99, 100)\n",
    "SR_p_grid = sharpe(-0.02, 0.02, p_grid, 52)\n",
    "ax[1, 0].plot(p_grid, SR_p_grid)\n",
    "ax[1, 0].set_ylabel(\"Sharpe Ratio\")\n",
    "ax[1, 0].set_xlabel(\"Precision (%)\")\n",
    "ax[1, 0].set_ylim(0, 3)\n",
    "\n",
    "n_bets = np.arange(30, 100)\n",
    "SR_bets_grid = sharpe(-0.02, 0.02, 0.6, n_bets)\n",
    "ax[1, 1].plot(n_bets, SR_bets_grid)\n",
    "ax[1, 1].set_ylabel(\"Sharpe Ratio\")\n",
    "ax[1, 1].set_xlabel(\"Bet Frequency p.a.\")\n",
    "ax[1, 1].set_ylim(0, 3)"
   ]
  },
  {
   "cell_type": "code",
   "execution_count": 14,
   "id": "846c867c-667a-4733-8d44-045fca44b769",
   "metadata": {},
   "outputs": [
    {
     "data": {
      "text/html": [
       "<div>\n",
       "<style scoped>\n",
       "    .dataframe tbody tr th:only-of-type {\n",
       "        vertical-align: middle;\n",
       "    }\n",
       "\n",
       "    .dataframe tbody tr th {\n",
       "        vertical-align: top;\n",
       "    }\n",
       "\n",
       "    .dataframe thead th {\n",
       "        text-align: right;\n",
       "    }\n",
       "</style>\n",
       "<table border=\"1\" class=\"dataframe\">\n",
       "  <thead>\n",
       "    <tr style=\"text-align: right;\">\n",
       "      <th></th>\n",
       "      <th>Sensitivity of Sharpe Ratio</th>\n",
       "    </tr>\n",
       "  </thead>\n",
       "  <tbody>\n",
       "    <tr>\n",
       "      <th>Stop Loss</th>\n",
       "      <td>0.04</td>\n",
       "    </tr>\n",
       "    <tr>\n",
       "      <th>Profit Taking</th>\n",
       "      <td>0.04</td>\n",
       "    </tr>\n",
       "    <tr>\n",
       "      <th>Precision</th>\n",
       "      <td>0.09</td>\n",
       "    </tr>\n",
       "    <tr>\n",
       "      <th>Bet Frequency p.a.</th>\n",
       "      <td>0.01</td>\n",
       "    </tr>\n",
       "  </tbody>\n",
       "</table>\n",
       "</div>"
      ],
      "text/plain": [
       "                    Sensitivity of Sharpe Ratio\n",
       "Stop Loss                                  0.04\n",
       "Profit Taking                              0.04\n",
       "Precision                                  0.09\n",
       "Bet Frequency p.a.                         0.01"
      ]
     },
     "execution_count": 14,
     "metadata": {},
     "output_type": "execute_result"
    }
   ],
   "source": [
    "# Bump each parameter by 0.01 and compute sensitivities\n",
    "bump = 0.01\n",
    "sl_sensitivity = sharpe(-0.02*(1 - bump), 0.02, 0.6, 52) - sharpe(-0.02, 0.02, 0.6, 52)\n",
    "pt_sensitivity = sharpe(-0.02, 0.02*(1 + bump), 0.6, 52) - sharpe(-0.02, 0.02, 0.6, 52)\n",
    "p_sensitivity = sharpe(-0.02, 0.02, 0.6*(1 + bump), 52) - sharpe(-0.02, 0.02, 0.6, 52)\n",
    "n_sensitivity = sharpe(-0.02, 0.02, 0.6, 52*(1 + bump)) - sharpe(-0.02, 0.02, 0.6, 52)\n",
    "\n",
    "data = [sl_sensitivity, pt_sensitivity, p_sensitivity, n_sensitivity]\n",
    "data = [np.round(x, 2) for x in data]\n",
    "\n",
    "labels = [\"Stop Loss\", \"Profit Taking\", \"Precision\", \"Bet Frequency p.a.\"]\n",
    "\n",
    "pd.DataFrame(index=labels, data=data, columns=[\"Sensitivity of Sharpe Ratio\"])"
   ]
  },
  {
   "cell_type": "markdown",
   "id": "90098409-9d8e-4cd9-a930-beff6de90144",
   "metadata": {},
   "source": [
    "The Sharpe ratio has the highest sensitivity to the precision. However, sensitivity to stop loss and profit taking is non-negligable, so one could consider tuning these parameters as well.  There is not much to be gained by changing the number of bets, unless it can be changed a lot."
   ]
  },
  {
   "cell_type": "code",
   "execution_count": 15,
   "id": "f541472e-6986-4750-83e6-c9fe34c106f5",
   "metadata": {},
   "outputs": [
    {
     "data": {
      "text/plain": [
       "Text(0.5, 1.0, 'Implied Precision for Fixed Sharpe vs. Bet Frequency')"
      ]
     },
     "execution_count": 15,
     "metadata": {},
     "output_type": "execute_result"
    },
    {
     "data": {
      "image/png": "[encoded data removed]",
      "text/plain": [
       "<Figure size 640x480 with 1 Axes>"
      ]
     },
     "metadata": {},
     "output_type": "display_data"
    }
   ],
   "source": [
    "# Now investigate cross effects\n",
    "bet_grid = np.arange(30, 100)\n",
    "p_bet_grid = implied_precision(2, -0.02, 0.02, bet_grid)\n",
    "\n",
    "plt.plot(bet_grid, p_bet_grid)\n",
    "plt.ylabel(\"Implied Precision\")\n",
    "plt.xlabel(\"Bet Frequency p.a.\")\n",
    "plt.title(\"Implied Precision for Fixed Sharpe vs. Bet Frequency\")"
   ]
  },
  {
   "cell_type": "markdown",
   "id": "9a2af583-a355-4af1-bb7d-955aff60f432",
   "metadata": {},
   "source": [
    "Yes, there are cross effects; maximizing Sharpe is a multiple-dimensional optimization problem. For example, raising the betting frequency lowers the implied precision, i.e. the precision required to attain a particular sharpe"
   ]
  },
  {
   "cell_type": "markdown",
   "id": "f297b601-0379-4174-8f50-111c45423f6d",
   "metadata": {},
   "source": [
    "### 15.3"
   ]
  },
  {
   "cell_type": "markdown",
   "id": "aa0d1f19-b34e-4f60-bb54-ee70b7b7de36",
   "metadata": {},
   "source": [
    "Suppose a strategy that generates monthly bets over two years, with returns\n",
    "following a mixture of two Gaussian distributions. The first distribution has\n",
    "a mean of –0.1 and a standard deviation of 0.12. The second distribution has\n",
    "a mean of 0.06 and a standard deviation of 0.03. The probability that a draw\n",
    "comes from the first distribution is 0.15.\n",
    "\n",
    "(a) Following Lopez de Prado and Peijan [2004] and L ´ opez de Prado and Fore- ´\n",
    "man [2014], derive the first four moments for the mixture’s returns.\n",
    "\n",
    "(b) What is the annualized SR?\n",
    "\n",
    "(c) Using those moments, compute PSR[1] (see Chapter 14). At a 95% confidence level, would you discard this strategy?"
   ]
  },
  {
   "cell_type": "markdown",
   "id": "34c26829-c4e9-42da-b8cb-477fb3661007",
   "metadata": {},
   "source": [
    "It is straightforward to show that the cumulant generating function for a mixture of $N$ gaussians is given by (note that the kurtosis is 0 for a gaussian)\n",
    "$$ G(t) = \\log\\Big(\\sum_{i=1}^{N} \\exp(t \\mu_i + \\frac{t^2\\sigma_i^2}{2}) p(g_i) \\Big)$$\n",
    "\n",
    "For this strategy, we assume that a bet is made every month, and the following returns reflect the performance over that month. Given their values, this seems reasonable"
   ]
  },
  {
   "cell_type": "code",
   "execution_count": 16,
   "id": "be26995f-617f-4d05-82cd-6252b3de65a7",
   "metadata": {},
   "outputs": [
    {
     "data": {
      "image/png": "[encoded data removed]",
      "text/plain": [
       "<Figure size 640x480 with 1 Axes>"
      ]
     },
     "metadata": {},
     "output_type": "display_data"
    }
   ],
   "source": [
    "# Plot histogram of model distribution\n",
    "from numpy.random import normal, uniform\n",
    "\n",
    "n_samples = 10_000\n",
    "m_1 = -0.1, \n",
    "m_2 = 0.06\n",
    "s_1 = 0.12\n",
    "s_2 = 0.03\n",
    "p_1 = 0.15\n",
    "\n",
    "g1 = normal(loc=m_1, scale=s_1, size=int(p_1*n_samples))\n",
    "g2 = normal(loc=m_2, scale=s_2, size=n_samples - int(p_1*n_samples))\n",
    "\n",
    "samples = np.concat([g1, g2])\n",
    "\n",
    "plt.hist(samples, bins=100);\n",
    "plt.title(\"Gaussian Mixture Model\");"
   ]
  },
  {
   "cell_type": "code",
   "execution_count": 20,
   "id": "95dd9348-1439-4195-a87a-9501ae78925d",
   "metadata": {},
   "outputs": [
    {
     "data": {
      "text/html": [
       "<div>\n",
       "<style scoped>\n",
       "    .dataframe tbody tr th:only-of-type {\n",
       "        vertical-align: middle;\n",
       "    }\n",
       "\n",
       "    .dataframe tbody tr th {\n",
       "        vertical-align: top;\n",
       "    }\n",
       "\n",
       "    .dataframe thead th {\n",
       "        text-align: right;\n",
       "    }\n",
       "</style>\n",
       "<table border=\"1\" class=\"dataframe\">\n",
       "  <thead>\n",
       "    <tr style=\"text-align: right;\">\n",
       "      <th></th>\n",
       "      <th>mean</th>\n",
       "      <th>standard deviation</th>\n",
       "      <th>skew</th>\n",
       "      <th>kurtosis</th>\n",
       "      <th>Sharpe</th>\n",
       "      <th>Sharpe Benchmark</th>\n",
       "      <th>PSR</th>\n",
       "    </tr>\n",
       "  </thead>\n",
       "  <tbody>\n",
       "    <tr>\n",
       "      <th>0</th>\n",
       "      <td>0.036</td>\n",
       "      <td>0.07867</td>\n",
       "      <td>-0.001192</td>\n",
       "      <td>3.000274</td>\n",
       "      <td>1.585196</td>\n",
       "      <td>0.0</td>\n",
       "      <td>0.981578</td>\n",
       "    </tr>\n",
       "  </tbody>\n",
       "</table>\n",
       "</div>"
      ],
      "text/plain": [
       "    mean  standard deviation      skew  kurtosis    Sharpe  Sharpe Benchmark  \\\n",
       "0  0.036             0.07867 -0.001192  3.000274  1.585196               0.0   \n",
       "\n",
       "        PSR  \n",
       "0  0.981578  "
      ]
     },
     "execution_count": 20,
     "metadata": {},
     "output_type": "execute_result"
    }
   ],
   "source": [
    "m1, m2, s1, s2, t, p1 = symbols('m1 m2 s1 s2 t p1')\n",
    "subs = {\"t\":0, \"m1\":-0.1, \"s1\":0.12, \"m2\":0.06, \"s2\":0.03, \"p1\":0.15}\n",
    "\n",
    "G = log(p1 * exp(t * m1 + (t**2 * s1**2) / 2) + (1 - p1)*exp(t*m2 + (t**2 * s2**2)/2))\n",
    "\n",
    "sharpe_benchmark = 0\n",
    "\n",
    "mean = float(diff(G, t).evalf(subs=subs))\n",
    "std = np.sqrt(float(diff(diff(G, t), t).evalf(subs=subs)))\n",
    "skew = float(diff(diff(diff(G, t), t), t).evalf(subs=subs))\n",
    "kurtosis = float(diff(diff(diff(diff(G, t), t), t), t).evalf(subs=subs) + 3)\n",
    "\n",
    "annualized_sharpe = np.sqrt(12)*mean/std\n",
    "\n",
    "PSR = compute_PSR(benchmark = sharpe_benchmark, \n",
    "                  SR_observed = mean/std, # use sharp on same time scale as observations \n",
    "                  observations = 12*2, # this is total observations, not obs per year\n",
    "                  skew = skew, \n",
    "                  kurtosis = kurtosis)\n",
    "\n",
    "data = [mean, std, skew, kurtosis, annualized_sharpe, np.sqrt(12)*sharpe_benchmark, PSR]\n",
    "labels = [\"mean\", \"standard deviation\", \"skew\", \"kurtosis\", \"Sharpe\", \"Sharpe Benchmark\", \"PSR\"]\n",
    "\n",
    "pd.DataFrame(columns=labels, data=[data])"
   ]
  },
  {
   "cell_type": "markdown",
   "id": "c4071265-e1ed-4860-9c48-ff997847fccd",
   "metadata": {},
   "source": [
    "Based on the PSR, The strategy should not be rejected, especially against a benchmark of zero. This intuitively makes sense; the strategy almost always draws from the positively positioned gaussian, and when it does, its return is consistently around the mean "
   ]
  },
  {
   "cell_type": "markdown",
   "id": "f7ebae6d-51ec-4b29-9604-6f219513fd10",
   "metadata": {},
   "source": [
    "### 15.4 - 15.5"
   ]
  },
  {
   "cell_type": "markdown",
   "id": "645164b5-c407-4349-a3d8-aa7f4a408c27",
   "metadata": {},
   "source": [
    "Using Snippet 15.5, compute P[p < p𝜃∗=1] for the strategy described in exercise\n",
    "3. At a significance level of 0.05, would you discard this strategy? Is this result\n",
    "consistent with PSR[𝜃∗]?\n",
    "\n",
    "In general, what result do you expect to be more accurate, PSR[𝜃∗] or\n",
    "P[p < p𝜃∗=1]? How are these two methods complementary?"
   ]
  },
  {
   "cell_type": "code",
   "execution_count": 28,
   "id": "13b3eadf-34ae-4156-a180-7b5194c027a4",
   "metadata": {},
   "outputs": [],
   "source": [
    "# compute probability of strategy failure\n",
    "prob_failure = prob_strategy_failure(m_1, m_2, s_1, s_2, p_1, 100_000, 0)"
   ]
  },
  {
   "cell_type": "code",
   "execution_count": 29,
   "id": "0df0ea6a-f563-4518-ac35-ac642393e864",
   "metadata": {},
   "outputs": [
    {
     "data": {
      "text/html": [
       "<div>\n",
       "<style scoped>\n",
       "    .dataframe tbody tr th:only-of-type {\n",
       "        vertical-align: middle;\n",
       "    }\n",
       "\n",
       "    .dataframe tbody tr th {\n",
       "        vertical-align: top;\n",
       "    }\n",
       "\n",
       "    .dataframe thead th {\n",
       "        text-align: right;\n",
       "    }\n",
       "</style>\n",
       "<table border=\"1\" class=\"dataframe\">\n",
       "  <thead>\n",
       "    <tr style=\"text-align: right;\">\n",
       "      <th></th>\n",
       "      <th>mean</th>\n",
       "      <th>standard deviation</th>\n",
       "      <th>skew</th>\n",
       "      <th>kurtosis</th>\n",
       "      <th>Sharpe</th>\n",
       "      <th>Sharpe Benchmark</th>\n",
       "      <th>PSR</th>\n",
       "      <th>Prob Fail</th>\n",
       "    </tr>\n",
       "  </thead>\n",
       "  <tbody>\n",
       "    <tr>\n",
       "      <th>0</th>\n",
       "      <td>0.036</td>\n",
       "      <td>0.07867</td>\n",
       "      <td>-0.001192</td>\n",
       "      <td>3.000274</td>\n",
       "      <td>1.585196</td>\n",
       "      <td>0.0</td>\n",
       "      <td>0.981578</td>\n",
       "      <td>0.051457</td>\n",
       "    </tr>\n",
       "  </tbody>\n",
       "</table>\n",
       "</div>"
      ],
      "text/plain": [
       "    mean  standard deviation      skew  kurtosis    Sharpe  Sharpe Benchmark  \\\n",
       "0  0.036             0.07867 -0.001192  3.000274  1.585196               0.0   \n",
       "\n",
       "        PSR  Prob Fail  \n",
       "0  0.981578   0.051457  "
      ]
     },
     "execution_count": 29,
     "metadata": {},
     "output_type": "execute_result"
    }
   ],
   "source": [
    "data = [mean, std, skew, kurtosis, annualized_sharpe, np.sqrt(12)*sharpe_benchmark, PSR, prob_failure]\n",
    "labels = [\"mean\", \"standard deviation\", \"skew\", \"kurtosis\", \"Sharpe\", \"Sharpe Benchmark\", \"PSR\", \"Prob Fail\"]\n",
    "\n",
    "pd.DataFrame(columns=labels, data=[data])"
   ]
  },
  {
   "cell_type": "markdown",
   "id": "f95154dd-5ec0-4fff-a339-9eddb2e2f02b",
   "metadata": {},
   "source": [
    "There is a low but not insignificant chance that the strategy fails.  This does not contradict the fact that the true sharp ratio is greater than the benchmark 0, which we concluded from the PSR test. The probability of failure is also sensitive to the variance of the measured sharpe ratio, which can be large."
   ]
  }
 ],
 "metadata": {
  "kernelspec": {
   "display_name": "Python 3 (ipykernel)",
   "language": "python",
   "name": "python3"
  },
  "language_info": {
   "codemirror_mode": {
    "name": "ipython",
    "version": 3
   },
   "file_extension": ".py",
   "mimetype": "text/x-python",
   "name": "python",
   "nbconvert_exporter": "python",
   "pygments_lexer": "ipython3",
   "version": "3.11.5"
  }
 },
 "nbformat": 4,
 "nbformat_minor": 5
}
